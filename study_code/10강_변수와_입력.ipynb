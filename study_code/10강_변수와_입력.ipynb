{
  "nbformat": 4,
  "nbformat_minor": 0,
  "metadata": {
    "colab": {
      "name": "10강 - 변수와 입력.ipynb",
      "provenance": [],
      "authorship_tag": "ABX9TyO3rhWPReuZXNFo4CYQfpfl",
      "include_colab_link": true
    },
    "kernelspec": {
      "name": "python3",
      "display_name": "Python 3"
    }
  },
  "cells": [
    {
      "cell_type": "markdown",
      "metadata": {
        "id": "view-in-github",
        "colab_type": "text"
      },
      "source": [
        "<a href=\"https://colab.research.google.com/github/anew0m/Book_HandsOnML2/blob/master/study_code/10%EA%B0%95_%EB%B3%80%EC%88%98%EC%99%80_%EC%9E%85%EB%A0%A5.ipynb\" target=\"_parent\"><img src=\"https://colab.research.google.com/assets/colab-badge.svg\" alt=\"Open In Colab\"/></a>"
      ]
    },
    {
      "cell_type": "markdown",
      "metadata": {
        "id": "8AIrPlaRoqHq"
      },
      "source": [
        "# 10강 - 변수와 입력"
      ]
    },
    {
      "cell_type": "markdown",
      "metadata": {
        "id": "qn_3qTJ0osvc"
      },
      "source": [
        "1. 변수\n",
        "2. 복합 대입 연산자\n",
        "3. 입력"
      ]
    },
    {
      "cell_type": "markdown",
      "metadata": {
        "id": "-6PCce9jovQx"
      },
      "source": [
        "## 변수 : variable"
      ]
    },
    {
      "cell_type": "markdown",
      "metadata": {
        "id": "DpHJNV36ox_L"
      },
      "source": [
        "* 변할 수 있는 숫자\n",
        "* 데이터에 이름을 붙인 것\n",
        "* 식별자(pi) = 값(3.14)"
      ]
    },
    {
      "cell_type": "code",
      "metadata": {
        "id": "NFeY4X89o5Rz"
      },
      "source": [
        "pi = 3.14"
      ],
      "execution_count": 1,
      "outputs": []
    },
    {
      "cell_type": "code",
      "metadata": {
        "id": "FRKE_Fndo6Fm",
        "outputId": "d655a6a0-fbaa-4d37-9c69-ba8256c548f6",
        "colab": {
          "base_uri": "https://localhost:8080/",
          "height": 35
        }
      },
      "source": [
        "print(pi)"
      ],
      "execution_count": 2,
      "outputs": [
        {
          "output_type": "stream",
          "text": [
            "3.14\n"
          ],
          "name": "stdout"
        }
      ]
    },
    {
      "cell_type": "markdown",
      "metadata": {
        "id": "P_pxEwLBpcYW"
      },
      "source": [
        "* 선언 : 식별자를 변수로 쓰겠다고 하는 것\n",
        "* 할당 : 해당 변수에 값을 넣는 것\n",
        "* 초기화 : 위의 두 과정을 처음 해주는 것"
      ]
    },
    {
      "cell_type": "markdown",
      "metadata": {
        "id": "iXIXmts6ploN"
      },
      "source": [
        "## 변수와 연산자 : 기본연산"
      ]
    },
    {
      "cell_type": "code",
      "metadata": {
        "id": "IQS_EKgMqLzi",
        "outputId": "e2200cdf-32d6-4cd0-815f-ef54c44effeb",
        "colab": {
          "base_uri": "https://localhost:8080/",
          "height": 35
        }
      },
      "source": [
        "print((pi + 3.14) * 2)"
      ],
      "execution_count": 3,
      "outputs": [
        {
          "output_type": "stream",
          "text": [
            "12.56\n"
          ],
          "name": "stdout"
        }
      ]
    },
    {
      "cell_type": "markdown",
      "metadata": {
        "id": "-YUyKdY2qN76"
      },
      "source": [
        "## 변수와 연산자 : 복합 대입 연산자"
      ]
    },
    {
      "cell_type": "code",
      "metadata": {
        "id": "wN-JmJOKqT9n",
        "outputId": "3637c909-d22d-475d-8d4b-0baf3ec88aa2",
        "colab": {
          "base_uri": "https://localhost:8080/",
          "height": 35
        }
      },
      "source": [
        "pi = 3.14\n",
        "print(pi)"
      ],
      "execution_count": 6,
      "outputs": [
        {
          "output_type": "stream",
          "text": [
            "3.14\n"
          ],
          "name": "stdout"
        }
      ]
    },
    {
      "cell_type": "code",
      "metadata": {
        "id": "8CsQLLiJqXqW",
        "outputId": "a3082742-2ee4-412d-9f54-27affa25e7c0",
        "colab": {
          "base_uri": "https://localhost:8080/",
          "height": 35
        }
      },
      "source": [
        "pi = pi + 10\n",
        "print(pi)"
      ],
      "execution_count": 7,
      "outputs": [
        {
          "output_type": "stream",
          "text": [
            "13.14\n"
          ],
          "name": "stdout"
        }
      ]
    },
    {
      "cell_type": "markdown",
      "metadata": {
        "id": "djTKY4jqqdRW"
      },
      "source": [
        "* a = a + 1\n",
        "* a += 1\n",
        "\n",
        "* a = a - 1\n",
        "* a -= 1\n",
        "\n",
        "* +, -, *, /, //, % 가능"
      ]
    },
    {
      "cell_type": "markdown",
      "metadata": {
        "id": "oalo-pk3qjJI"
      },
      "source": [
        "## 사용자 입력 : input() 함수"
      ]
    },
    {
      "cell_type": "code",
      "metadata": {
        "id": "5ZgOsBNdq2ix",
        "outputId": "509d1c43-5263-417b-c16d-d44c8e1bb017",
        "colab": {
          "base_uri": "https://localhost:8080/",
          "height": 54
        }
      },
      "source": [
        "input() # 함수"
      ],
      "execution_count": 8,
      "outputs": [
        {
          "output_type": "stream",
          "text": [
            "aaa\n"
          ],
          "name": "stdout"
        },
        {
          "output_type": "execute_result",
          "data": {
            "application/vnd.google.colaboratory.intrinsic+json": {
              "type": "string"
            },
            "text/plain": [
              "'aaa'"
            ]
          },
          "metadata": {
            "tags": []
          },
          "execution_count": 8
        }
      ]
    },
    {
      "cell_type": "code",
      "metadata": {
        "id": "v6wuSpyEq4xo",
        "outputId": "6e304d27-f221-455e-c54c-1418582fb2b4",
        "colab": {
          "base_uri": "https://localhost:8080/",
          "height": 54
        }
      },
      "source": [
        "input(\">>> \")"
      ],
      "execution_count": 9,
      "outputs": [
        {
          "output_type": "stream",
          "text": [
            ">>> asdjhfjashdkjf\n"
          ],
          "name": "stdout"
        },
        {
          "output_type": "execute_result",
          "data": {
            "application/vnd.google.colaboratory.intrinsic+json": {
              "type": "string"
            },
            "text/plain": [
              "'asdjhfjashdkjf'"
            ]
          },
          "metadata": {
            "tags": []
          },
          "execution_count": 9
        }
      ]
    },
    {
      "cell_type": "markdown",
      "metadata": {
        "id": "fZOvg0q9q7qv"
      },
      "source": [
        "* 사용자에게 입력 받고 출력"
      ]
    },
    {
      "cell_type": "code",
      "metadata": {
        "id": "sOOGURa3rEnA",
        "outputId": "5fc603a5-b77c-4226-83c0-1409afc124d1",
        "colab": {
          "base_uri": "https://localhost:8080/",
          "height": 54
        }
      },
      "source": [
        "print(input(\">>> \"))"
      ],
      "execution_count": 10,
      "outputs": [
        {
          "output_type": "stream",
          "text": [
            ">>> 입력\n",
            "입력\n"
          ],
          "name": "stdout"
        }
      ]
    },
    {
      "cell_type": "code",
      "metadata": {
        "id": "nko9qIxVrGdw",
        "outputId": "fdeda794-a168-43e5-cbf5-ae13eb35138a",
        "colab": {
          "base_uri": "https://localhost:8080/",
          "height": 54
        }
      },
      "source": [
        "a = input(\">>> \")\n",
        "\n",
        "print(a)"
      ],
      "execution_count": 12,
      "outputs": [
        {
          "output_type": "stream",
          "text": [
            ">>> 입력\n",
            "입력\n"
          ],
          "name": "stdout"
        }
      ]
    },
    {
      "cell_type": "markdown",
      "metadata": {
        "id": "Qjl3qVecrMAa"
      },
      "source": [
        "## input() 함수의 결과는 무조건 문자열!"
      ]
    },
    {
      "cell_type": "code",
      "metadata": {
        "id": "FM_NYgE5ranz",
        "outputId": "56b65894-1f8a-4f75-f4ee-b7f4c2fbdfb6",
        "colab": {
          "base_uri": "https://localhost:8080/",
          "height": 72
        }
      },
      "source": [
        "a = input(\">>> \")\n",
        "\n",
        "print(a)\n",
        "\n",
        "print(type(a))"
      ],
      "execution_count": 13,
      "outputs": [
        {
          "output_type": "stream",
          "text": [
            ">>> 123182093\n",
            "123182093\n",
            "<class 'str'>\n"
          ],
          "name": "stdout"
        }
      ]
    },
    {
      "cell_type": "code",
      "metadata": {
        "id": "TDJ5y8TWreGT",
        "outputId": "99fe137b-c1a5-4b56-9f1f-fc70f74fb549",
        "colab": {
          "base_uri": "https://localhost:8080/",
          "height": 72
        }
      },
      "source": [
        "a = input(\"1 >>> \")\n",
        "b = input(\"2 >>> \")\n",
        "\n",
        "print(a + b)"
      ],
      "execution_count": 15,
      "outputs": [
        {
          "output_type": "stream",
          "text": [
            "1 >>> 100\n",
            "2 >>> 200\n",
            "100200\n"
          ],
          "name": "stdout"
        }
      ]
    },
    {
      "cell_type": "markdown",
      "metadata": {
        "id": "T9Vo_XiMrrzS"
      },
      "source": [
        "* 문자이기 때문에 100 과 200을 연결"
      ]
    },
    {
      "cell_type": "code",
      "metadata": {
        "id": "lCXIT0vSr0eK"
      },
      "source": [
        ""
      ],
      "execution_count": null,
      "outputs": []
    }
  ]
}