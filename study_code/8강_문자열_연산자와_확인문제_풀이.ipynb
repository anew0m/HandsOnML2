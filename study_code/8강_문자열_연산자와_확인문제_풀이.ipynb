{
  "nbformat": 4,
  "nbformat_minor": 0,
  "metadata": {
    "colab": {
      "name": " 8강 - 문자열 연산자와 확인문제 풀이.ipynb",
      "provenance": [],
      "authorship_tag": "ABX9TyP1CLioxDuQllycezsZSnUA",
      "include_colab_link": true
    },
    "kernelspec": {
      "name": "python3",
      "display_name": "Python 3"
    }
  },
  "cells": [
    {
      "cell_type": "markdown",
      "metadata": {
        "id": "view-in-github",
        "colab_type": "text"
      },
      "source": [
        "<a href=\"https://colab.research.google.com/github/anew0m/Book_HandsOnML2/blob/master/study_code/8%EA%B0%95_%EB%AC%B8%EC%9E%90%EC%97%B4_%EC%97%B0%EC%82%B0%EC%9E%90%EC%99%80_%ED%99%95%EC%9D%B8%EB%AC%B8%EC%A0%9C_%ED%92%80%EC%9D%B4.ipynb\" target=\"_parent\"><img src=\"https://colab.research.google.com/assets/colab-badge.svg\" alt=\"Open In Colab\"/></a>"
      ]
    },
    {
      "cell_type": "markdown",
      "metadata": {
        "id": "iE2wlHhxiLYc"
      },
      "source": [
        "#  8강 - 문자열 연산자와 확인문제 풀이"
      ]
    },
    {
      "cell_type": "markdown",
      "metadata": {
        "id": "SeChXts_iQjk"
      },
      "source": [
        "1. *문자 선택 연산자(인덱싱)\n",
        "2. *문자열 범위 선택 연산자(슬라이싱)\n",
        "3. 문자열 길이 구하기\n",
        "4. 확인문제"
      ]
    },
    {
      "cell_type": "markdown",
      "metadata": {
        "id": "IOf61UTMiSDN"
      },
      "source": [
        "## 문자 선택 연산자"
      ]
    },
    {
      "cell_type": "code",
      "metadata": {
        "id": "-_cqzCrKiXBb",
        "outputId": "eeecde3e-83b6-49db-82ab-b327ed65eb86",
        "colab": {
          "base_uri": "https://localhost:8080/",
          "height": 35
        }
      },
      "source": [
        "print(\"Hello\"[0])"
      ],
      "execution_count": 2,
      "outputs": [
        {
          "output_type": "stream",
          "text": [
            "H\n"
          ],
          "name": "stdout"
        }
      ]
    },
    {
      "cell_type": "code",
      "metadata": {
        "id": "qN90SCT5i2SD",
        "outputId": "abe97161-2e8a-49dd-d8ac-00b695a67526",
        "colab": {
          "base_uri": "https://localhost:8080/",
          "height": 35
        }
      },
      "source": [
        "print(\"Hello\"[1])"
      ],
      "execution_count": 3,
      "outputs": [
        {
          "output_type": "stream",
          "text": [
            "e\n"
          ],
          "name": "stdout"
        }
      ]
    },
    {
      "cell_type": "code",
      "metadata": {
        "id": "4idAGAsTi30H",
        "outputId": "df852f1b-8b13-475f-a730-1c19d47f9903",
        "colab": {
          "base_uri": "https://localhost:8080/",
          "height": 72
        }
      },
      "source": [
        "print(\"Hello\"[2])\n",
        "print(\"Hello\"[3])\n",
        "print(\"Hello\"[4])"
      ],
      "execution_count": 4,
      "outputs": [
        {
          "output_type": "stream",
          "text": [
            "l\n",
            "l\n",
            "o\n"
          ],
          "name": "stdout"
        }
      ]
    },
    {
      "cell_type": "code",
      "metadata": {
        "id": "Ork1svOYi5mY",
        "outputId": "1a5fb1f3-fd36-46d0-fb82-4f3a62f64f7d",
        "colab": {
          "base_uri": "https://localhost:8080/",
          "height": 108
        }
      },
      "source": [
        "print(\"Hello\"[-1])\n",
        "print(\"Hello\"[-2])\n",
        "print(\"Hello\"[-3])\n",
        "print(\"Hello\"[-4])\n",
        "print(\"Hello\"[-5])"
      ],
      "execution_count": 5,
      "outputs": [
        {
          "output_type": "stream",
          "text": [
            "o\n",
            "l\n",
            "l\n",
            "e\n",
            "H\n"
          ],
          "name": "stdout"
        }
      ]
    },
    {
      "cell_type": "code",
      "metadata": {
        "id": "CQEYbBTCjCkC",
        "outputId": "c4a8cd99-2d34-4b33-f781-425b1250bbbc",
        "colab": {
          "base_uri": "https://localhost:8080/",
          "height": 173
        }
      },
      "source": [
        "print(\"Hello\"[100])"
      ],
      "execution_count": 6,
      "outputs": [
        {
          "output_type": "error",
          "ename": "IndexError",
          "evalue": "ignored",
          "traceback": [
            "\u001b[0;31m---------------------------------------------------------------------------\u001b[0m",
            "\u001b[0;31mIndexError\u001b[0m                                Traceback (most recent call last)",
            "\u001b[0;32m<ipython-input-6-e093267e2bb0>\u001b[0m in \u001b[0;36m<module>\u001b[0;34m()\u001b[0m\n\u001b[0;32m----> 1\u001b[0;31m \u001b[0mprint\u001b[0m\u001b[0;34m(\u001b[0m\u001b[0;34m\"Hello\"\u001b[0m\u001b[0;34m[\u001b[0m\u001b[0;36m100\u001b[0m\u001b[0;34m]\u001b[0m\u001b[0;34m)\u001b[0m\u001b[0;34m\u001b[0m\u001b[0;34m\u001b[0m\u001b[0m\n\u001b[0m",
            "\u001b[0;31mIndexError\u001b[0m: string index out of range"
          ]
        }
      ]
    },
    {
      "cell_type": "code",
      "metadata": {
        "id": "E049PCuZjILP",
        "outputId": "a7705210-cb5e-4321-b134-a0cb43750986",
        "colab": {
          "base_uri": "https://localhost:8080/",
          "height": 173
        }
      },
      "source": [
        "print(\"Hello\"[6])"
      ],
      "execution_count": 7,
      "outputs": [
        {
          "output_type": "error",
          "ename": "IndexError",
          "evalue": "ignored",
          "traceback": [
            "\u001b[0;31m---------------------------------------------------------------------------\u001b[0m",
            "\u001b[0;31mIndexError\u001b[0m                                Traceback (most recent call last)",
            "\u001b[0;32m<ipython-input-7-3b54fda42b38>\u001b[0m in \u001b[0;36m<module>\u001b[0;34m()\u001b[0m\n\u001b[0;32m----> 1\u001b[0;31m \u001b[0mprint\u001b[0m\u001b[0;34m(\u001b[0m\u001b[0;34m\"Hello\"\u001b[0m\u001b[0;34m[\u001b[0m\u001b[0;36m6\u001b[0m\u001b[0;34m]\u001b[0m\u001b[0;34m)\u001b[0m\u001b[0;34m\u001b[0m\u001b[0;34m\u001b[0m\u001b[0m\n\u001b[0m",
            "\u001b[0;31mIndexError\u001b[0m: string index out of range"
          ]
        }
      ]
    },
    {
      "cell_type": "code",
      "metadata": {
        "id": "YJYUw1gBjKRb",
        "outputId": "03710ce7-929c-47b8-a509-321ad145f063",
        "colab": {
          "base_uri": "https://localhost:8080/",
          "height": 245
        }
      },
      "source": [
        "print(\"Hello\"[4])\n",
        "print()\n",
        "print(\"Hello\"[6])"
      ],
      "execution_count": 10,
      "outputs": [
        {
          "output_type": "stream",
          "text": [
            "o\n",
            "\n"
          ],
          "name": "stdout"
        },
        {
          "output_type": "error",
          "ename": "IndexError",
          "evalue": "ignored",
          "traceback": [
            "\u001b[0;31m---------------------------------------------------------------------------\u001b[0m",
            "\u001b[0;31mIndexError\u001b[0m                                Traceback (most recent call last)",
            "\u001b[0;32m<ipython-input-10-d36b08ee814d>\u001b[0m in \u001b[0;36m<module>\u001b[0;34m()\u001b[0m\n\u001b[1;32m      1\u001b[0m \u001b[0mprint\u001b[0m\u001b[0;34m(\u001b[0m\u001b[0;34m\"Hello\"\u001b[0m\u001b[0;34m[\u001b[0m\u001b[0;36m4\u001b[0m\u001b[0;34m]\u001b[0m\u001b[0;34m)\u001b[0m\u001b[0;34m\u001b[0m\u001b[0;34m\u001b[0m\u001b[0m\n\u001b[1;32m      2\u001b[0m \u001b[0mprint\u001b[0m\u001b[0;34m(\u001b[0m\u001b[0;34m)\u001b[0m\u001b[0;34m\u001b[0m\u001b[0;34m\u001b[0m\u001b[0m\n\u001b[0;32m----> 3\u001b[0;31m \u001b[0mprint\u001b[0m\u001b[0;34m(\u001b[0m\u001b[0;34m\"Hello\"\u001b[0m\u001b[0;34m[\u001b[0m\u001b[0;36m6\u001b[0m\u001b[0;34m]\u001b[0m\u001b[0;34m)\u001b[0m\u001b[0;34m\u001b[0m\u001b[0;34m\u001b[0m\u001b[0m\n\u001b[0m",
            "\u001b[0;31mIndexError\u001b[0m: string index out of range"
          ]
        }
      ]
    },
    {
      "cell_type": "markdown",
      "metadata": {
        "id": "CRedYbvejOwu"
      },
      "source": [
        "## 문자열 범위 선택 연산자(슬라이싱)"
      ]
    },
    {
      "cell_type": "code",
      "metadata": {
        "id": "ij1C-CTjjUqb",
        "outputId": "3c0d4143-c756-42ba-8c8a-6e27b86fb02a",
        "colab": {
          "base_uri": "https://localhost:8080/",
          "height": 35
        }
      },
      "source": [
        "print(\"Hello\"[0:1])"
      ],
      "execution_count": 11,
      "outputs": [
        {
          "output_type": "stream",
          "text": [
            "H\n"
          ],
          "name": "stdout"
        }
      ]
    },
    {
      "cell_type": "markdown",
      "metadata": {
        "id": "w-y9UMsnjXOt"
      },
      "source": [
        "print(\"Hello\"[0:1])\n",
        "\n",
        "* 파이썬은 0 < 1 , 느낌으로 선택합니다.\n",
        "* 따라서 1을 포함 안 합니다.\n",
        "* 뒤쪽 숫자 포함 안함!!!!"
      ]
    },
    {
      "cell_type": "code",
      "metadata": {
        "id": "eGje8km0jlK_",
        "outputId": "afe5e3c9-19c9-42ca-b3b2-f769af59bffb",
        "colab": {
          "base_uri": "https://localhost:8080/",
          "height": 35
        }
      },
      "source": [
        "print(\"Hello\"[0:2])"
      ],
      "execution_count": 12,
      "outputs": [
        {
          "output_type": "stream",
          "text": [
            "He\n"
          ],
          "name": "stdout"
        }
      ]
    },
    {
      "cell_type": "code",
      "metadata": {
        "id": "9zPRL92gjrfm",
        "outputId": "d31da6ef-1627-471c-a37e-11a1de8de350",
        "colab": {
          "base_uri": "https://localhost:8080/",
          "height": 35
        }
      },
      "source": [
        "print(\"Hello\"[0:3]) # 0 < 3"
      ],
      "execution_count": 13,
      "outputs": [
        {
          "output_type": "stream",
          "text": [
            "Hel\n"
          ],
          "name": "stdout"
        }
      ]
    },
    {
      "cell_type": "markdown",
      "metadata": {
        "id": "GoAzsMr0jwbp"
      },
      "source": [
        "뒤쪽 숫자 포함 안함!! "
      ]
    },
    {
      "cell_type": "code",
      "metadata": {
        "id": "WWOoXXW1j3_n",
        "outputId": "c27b37fc-bf7c-49a4-9842-c430e5a066dc",
        "colab": {
          "base_uri": "https://localhost:8080/",
          "height": 35
        }
      },
      "source": [
        "print(\"Hello\"[2:])"
      ],
      "execution_count": 14,
      "outputs": [
        {
          "output_type": "stream",
          "text": [
            "llo\n"
          ],
          "name": "stdout"
        }
      ]
    },
    {
      "cell_type": "code",
      "metadata": {
        "id": "uIynVCIVj7G3",
        "outputId": "b84cc054-cf81-4cf3-cd72-d5e0ff61bab5",
        "colab": {
          "base_uri": "https://localhost:8080/",
          "height": 35
        }
      },
      "source": [
        "print(\"Hello\"[:2])"
      ],
      "execution_count": 15,
      "outputs": [
        {
          "output_type": "stream",
          "text": [
            "He\n"
          ],
          "name": "stdout"
        }
      ]
    },
    {
      "cell_type": "code",
      "metadata": {
        "id": "VgKdsbcjj9nN",
        "outputId": "896e2f1c-5549-4fb8-8895-28b289423c08",
        "colab": {
          "base_uri": "https://localhost:8080/",
          "height": 35
        }
      },
      "source": [
        "print(\"안녕하세요\"[-1:-2])"
      ],
      "execution_count": 16,
      "outputs": [
        {
          "output_type": "stream",
          "text": [
            "\n"
          ],
          "name": "stdout"
        }
      ]
    },
    {
      "cell_type": "markdown",
      "metadata": {
        "id": "y9UTPM2ZkIVK"
      },
      "source": [
        "* 슬라이싱은 순차적으로 선택할 수 있음"
      ]
    },
    {
      "cell_type": "code",
      "metadata": {
        "id": "-EFsazqpkNa7",
        "outputId": "0c242e53-30fa-4ae4-85e6-35760cdca61a",
        "colab": {
          "base_uri": "https://localhost:8080/",
          "height": 35
        }
      },
      "source": [
        "print(\"안녕하세요\"[-1:-2])"
      ],
      "execution_count": 17,
      "outputs": [
        {
          "output_type": "stream",
          "text": [
            "\n"
          ],
          "name": "stdout"
        }
      ]
    },
    {
      "cell_type": "markdown",
      "metadata": {
        "id": "0S-Kax5VkQZl"
      },
      "source": [
        "## 문자열 길이 구하기 : len() 함수"
      ]
    },
    {
      "cell_type": "code",
      "metadata": {
        "id": "4amkFAh0kXa9",
        "outputId": "f7a929c2-fbd2-4f64-cb9f-804f08adefbd",
        "colab": {
          "base_uri": "https://localhost:8080/",
          "height": 35
        }
      },
      "source": [
        "len(\"Hello\")"
      ],
      "execution_count": 18,
      "outputs": [
        {
          "output_type": "execute_result",
          "data": {
            "text/plain": [
              "5"
            ]
          },
          "metadata": {
            "tags": []
          },
          "execution_count": 18
        }
      ]
    },
    {
      "cell_type": "code",
      "metadata": {
        "id": "twy1CjHhkZGC",
        "outputId": "686d03e5-b79e-4d18-cb67-3155b2818370",
        "colab": {
          "base_uri": "https://localhost:8080/",
          "height": 35
        }
      },
      "source": [
        "print(len(\"Hello\"))"
      ],
      "execution_count": 19,
      "outputs": [
        {
          "output_type": "stream",
          "text": [
            "5\n"
          ],
          "name": "stdout"
        }
      ]
    },
    {
      "cell_type": "markdown",
      "metadata": {
        "id": "vjd5mNBSkcFc"
      },
      "source": [
        "## 연습문제/풀이"
      ]
    },
    {
      "cell_type": "code",
      "metadata": {
        "id": "_mnOR8HIkstZ"
      },
      "source": [
        ""
      ],
      "execution_count": null,
      "outputs": []
    }
  ]
}